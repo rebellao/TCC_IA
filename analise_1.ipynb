{
 "cells": [
  {
   "cell_type": "code",
   "execution_count": 1,
   "id": "97105f42-74dd-4c1a-b30e-af8c55d47c73",
   "metadata": {},
   "outputs": [],
   "source": [
    "import numpy as np\n",
    "import pandas as pd\n",
    "import os\n",
    "import matplotlib.pyplot as plt"
   ]
  },
  {
   "cell_type": "code",
   "execution_count": 2,
   "id": "9e5d6996-0b08-4e89-a3d0-bc30365e8595",
   "metadata": {},
   "outputs": [
    {
     "data": {
      "text/html": [
       "<div>\n",
       "<style scoped>\n",
       "    .dataframe tbody tr th:only-of-type {\n",
       "        vertical-align: middle;\n",
       "    }\n",
       "\n",
       "    .dataframe tbody tr th {\n",
       "        vertical-align: top;\n",
       "    }\n",
       "\n",
       "    .dataframe thead th {\n",
       "        text-align: right;\n",
       "    }\n",
       "</style>\n",
       "<table border=\"1\" class=\"dataframe\">\n",
       "  <thead>\n",
       "    <tr style=\"text-align: right;\">\n",
       "      <th></th>\n",
       "      <th>estacao</th>\n",
       "      <th>dataNotif</th>\n",
       "      <th>ocupacaoSuspeitoCli</th>\n",
       "      <th>ocupacaoSuspeitoUti</th>\n",
       "      <th>ocupacaoConfirmadoCli</th>\n",
       "      <th>ocupacaoConfirmadoUti</th>\n",
       "      <th>saidaSuspeitaObitos</th>\n",
       "      <th>saidaSuspeitaAltas</th>\n",
       "      <th>saidaConfirmadaObitos</th>\n",
       "      <th>saidaConfirmadaAltas</th>\n",
       "      <th>lat</th>\n",
       "      <th>long</th>\n",
       "      <th>no_fantasia</th>\n",
       "      <th>tp_gestao</th>\n",
       "      <th>no_bairro</th>\n",
       "    </tr>\n",
       "  </thead>\n",
       "  <tbody>\n",
       "    <tr>\n",
       "      <th>0</th>\n",
       "      <td>VERAO</td>\n",
       "      <td>04/01/2020</td>\n",
       "      <td>113.0</td>\n",
       "      <td>70.0</td>\n",
       "      <td>34.0</td>\n",
       "      <td>25.0</td>\n",
       "      <td>0</td>\n",
       "      <td>1</td>\n",
       "      <td>0</td>\n",
       "      <td>3</td>\n",
       "      <td>-23.57005</td>\n",
       "      <td>-46.64571</td>\n",
       "      <td>HOSPITAL SANTA CATARINA</td>\n",
       "      <td>M</td>\n",
       "      <td>BELA VISTA</td>\n",
       "    </tr>\n",
       "    <tr>\n",
       "      <th>1</th>\n",
       "      <td>VERAO</td>\n",
       "      <td>07/02/2020</td>\n",
       "      <td>13.0</td>\n",
       "      <td>0.0</td>\n",
       "      <td>0.0</td>\n",
       "      <td>0.0</td>\n",
       "      <td>0</td>\n",
       "      <td>0</td>\n",
       "      <td>0</td>\n",
       "      <td>0</td>\n",
       "      <td>-23.53166</td>\n",
       "      <td>-46.62066</td>\n",
       "      <td>HOSP NSRA DO PARI</td>\n",
       "      <td>M</td>\n",
       "      <td>CANINDE</td>\n",
       "    </tr>\n",
       "    <tr>\n",
       "      <th>2</th>\n",
       "      <td>VERAO</td>\n",
       "      <td>20/03/2020</td>\n",
       "      <td>5.0</td>\n",
       "      <td>0.0</td>\n",
       "      <td>0.0</td>\n",
       "      <td>0.0</td>\n",
       "      <td>0</td>\n",
       "      <td>0</td>\n",
       "      <td>0</td>\n",
       "      <td>0</td>\n",
       "      <td>-23.56392</td>\n",
       "      <td>-46.59042</td>\n",
       "      <td>CEMA HOSP ESPEC</td>\n",
       "      <td>M</td>\n",
       "      <td>MOOCA</td>\n",
       "    </tr>\n",
       "    <tr>\n",
       "      <th>3</th>\n",
       "      <td>OUTONO</td>\n",
       "      <td>01/04/2020</td>\n",
       "      <td>91.0</td>\n",
       "      <td>44.0</td>\n",
       "      <td>0.0</td>\n",
       "      <td>3.0</td>\n",
       "      <td>0</td>\n",
       "      <td>0</td>\n",
       "      <td>0</td>\n",
       "      <td>0</td>\n",
       "      <td>-23.54198</td>\n",
       "      <td>-46.63503</td>\n",
       "      <td>HOSP MUN GILSON DE CASSIA MARQUES DE CARVALHO</td>\n",
       "      <td>M</td>\n",
       "      <td>VILA MASCOTE</td>\n",
       "    </tr>\n",
       "    <tr>\n",
       "      <th>4</th>\n",
       "      <td>OUTONO</td>\n",
       "      <td>01/04/2020</td>\n",
       "      <td>56.0</td>\n",
       "      <td>27.0</td>\n",
       "      <td>29.0</td>\n",
       "      <td>10.0</td>\n",
       "      <td>0</td>\n",
       "      <td>0</td>\n",
       "      <td>3</td>\n",
       "      <td>10</td>\n",
       "      <td>-23.69182</td>\n",
       "      <td>-46.77556</td>\n",
       "      <td>HOSP MUN M BOI MIRIM</td>\n",
       "      <td>M</td>\n",
       "      <td>JARDIM ANGELA</td>\n",
       "    </tr>\n",
       "  </tbody>\n",
       "</table>\n",
       "</div>"
      ],
      "text/plain": [
       "  estacao   dataNotif  ocupacaoSuspeitoCli  ocupacaoSuspeitoUti  \\\n",
       "0   VERAO  04/01/2020                113.0                 70.0   \n",
       "1   VERAO  07/02/2020                 13.0                  0.0   \n",
       "2   VERAO  20/03/2020                  5.0                  0.0   \n",
       "3  OUTONO  01/04/2020                 91.0                 44.0   \n",
       "4  OUTONO  01/04/2020                 56.0                 27.0   \n",
       "\n",
       "   ocupacaoConfirmadoCli  ocupacaoConfirmadoUti  saidaSuspeitaObitos  \\\n",
       "0                   34.0                   25.0                    0   \n",
       "1                    0.0                    0.0                    0   \n",
       "2                    0.0                    0.0                    0   \n",
       "3                    0.0                    3.0                    0   \n",
       "4                   29.0                   10.0                    0   \n",
       "\n",
       "   saidaSuspeitaAltas  saidaConfirmadaObitos  saidaConfirmadaAltas       lat  \\\n",
       "0                   1                      0                     3 -23.57005   \n",
       "1                   0                      0                     0 -23.53166   \n",
       "2                   0                      0                     0 -23.56392   \n",
       "3                   0                      0                     0 -23.54198   \n",
       "4                   0                      3                    10 -23.69182   \n",
       "\n",
       "       long                                    no_fantasia tp_gestao  \\\n",
       "0 -46.64571                        HOSPITAL SANTA CATARINA         M   \n",
       "1 -46.62066                              HOSP NSRA DO PARI         M   \n",
       "2 -46.59042                                CEMA HOSP ESPEC         M   \n",
       "3 -46.63503  HOSP MUN GILSON DE CASSIA MARQUES DE CARVALHO         M   \n",
       "4 -46.77556                           HOSP MUN M BOI MIRIM         M   \n",
       "\n",
       "       no_bairro  \n",
       "0     BELA VISTA  \n",
       "1        CANINDE  \n",
       "2          MOOCA  \n",
       "3   VILA MASCOTE  \n",
       "4  JARDIM ANGELA  "
      ]
     },
     "execution_count": 2,
     "metadata": {},
     "output_type": "execute_result"
    }
   ],
   "source": [
    "data = pd.read_csv(\"dataset/dataset_tcc_final.csv\")\n",
    "data.head()"
   ]
  },
  {
   "cell_type": "code",
   "execution_count": 3,
   "id": "20123de6-6aeb-42e4-8ea1-2f388fc78701",
   "metadata": {},
   "outputs": [],
   "source": [
    "data['totalObitos'] = data['saidaConfirmadaObitos'] + data['saidaSuspeitaObitos']"
   ]
  },
  {
   "cell_type": "code",
   "execution_count": 4,
   "id": "8d13e945-9bf2-409c-bd46-9ba8999649bc",
   "metadata": {},
   "outputs": [
    {
     "data": {
      "text/plain": [
       "(39894, 2)"
      ]
     },
     "execution_count": 4,
     "metadata": {},
     "output_type": "execute_result"
    }
   ],
   "source": [
    "df_pre = data[['no_fantasia','totalObitos']]\n",
    "df_pre.shape"
   ]
  },
  {
   "cell_type": "code",
   "execution_count": 5,
   "id": "cb47218f-f718-4fcb-96b8-03237f7e9355",
   "metadata": {},
   "outputs": [
    {
     "data": {
      "text/html": [
       "<div>\n",
       "<style scoped>\n",
       "    .dataframe tbody tr th:only-of-type {\n",
       "        vertical-align: middle;\n",
       "    }\n",
       "\n",
       "    .dataframe tbody tr th {\n",
       "        vertical-align: top;\n",
       "    }\n",
       "\n",
       "    .dataframe thead th {\n",
       "        text-align: right;\n",
       "    }\n",
       "</style>\n",
       "<table border=\"1\" class=\"dataframe\">\n",
       "  <thead>\n",
       "    <tr style=\"text-align: right;\">\n",
       "      <th></th>\n",
       "      <th>no_fantasia</th>\n",
       "      <th>totalObitos</th>\n",
       "    </tr>\n",
       "  </thead>\n",
       "  <tbody>\n",
       "    <tr>\n",
       "      <th>0</th>\n",
       "      <td>A C CAMARGO CANCER CENTER</td>\n",
       "      <td>112</td>\n",
       "    </tr>\n",
       "    <tr>\n",
       "      <th>1</th>\n",
       "      <td>AIS UNINOVE VERGUEIRO</td>\n",
       "      <td>121</td>\n",
       "    </tr>\n",
       "    <tr>\n",
       "      <th>2</th>\n",
       "      <td>ASSOC AACD V CLEMENTINO</td>\n",
       "      <td>2</td>\n",
       "    </tr>\n",
       "    <tr>\n",
       "      <th>3</th>\n",
       "      <td>CAISM DR DAVID CAPISTRANO DA COSTA FILHO DA AG...</td>\n",
       "      <td>0</td>\n",
       "    </tr>\n",
       "    <tr>\n",
       "      <th>4</th>\n",
       "      <td>CAISM PHILIPPE PINEL SAO PAULO</td>\n",
       "      <td>0</td>\n",
       "    </tr>\n",
       "  </tbody>\n",
       "</table>\n",
       "</div>"
      ],
      "text/plain": [
       "                                         no_fantasia  totalObitos\n",
       "0                          A C CAMARGO CANCER CENTER          112\n",
       "1                              AIS UNINOVE VERGUEIRO          121\n",
       "2                            ASSOC AACD V CLEMENTINO            2\n",
       "3  CAISM DR DAVID CAPISTRANO DA COSTA FILHO DA AG...            0\n",
       "4                     CAISM PHILIPPE PINEL SAO PAULO            0"
      ]
     },
     "execution_count": 5,
     "metadata": {},
     "output_type": "execute_result"
    }
   ],
   "source": [
    "df_group = df_pre.groupby(['no_fantasia']).sum().reset_index()\n",
    "#df_group.shape\n",
    "df_group.head()"
   ]
  },
  {
   "cell_type": "code",
   "execution_count": 6,
   "id": "b82751a6-971d-4697-9901-1cdf4758e009",
   "metadata": {},
   "outputs": [
    {
     "data": {
      "text/html": [
       "<div>\n",
       "<style scoped>\n",
       "    .dataframe tbody tr th:only-of-type {\n",
       "        vertical-align: middle;\n",
       "    }\n",
       "\n",
       "    .dataframe tbody tr th {\n",
       "        vertical-align: top;\n",
       "    }\n",
       "\n",
       "    .dataframe thead th {\n",
       "        text-align: right;\n",
       "    }\n",
       "</style>\n",
       "<table border=\"1\" class=\"dataframe\">\n",
       "  <thead>\n",
       "    <tr style=\"text-align: right;\">\n",
       "      <th></th>\n",
       "      <th>no_fantasia</th>\n",
       "      <th>totalObitos</th>\n",
       "    </tr>\n",
       "  </thead>\n",
       "  <tbody>\n",
       "    <tr>\n",
       "      <th>65</th>\n",
       "      <td>HOSPITAL ESTADUAL DE SAPOPEMBA SAO PAULO</td>\n",
       "      <td>16546</td>\n",
       "    </tr>\n",
       "    <tr>\n",
       "      <th>81</th>\n",
       "      <td>HOSPITAL LOCAL DE SAPOPEMBA</td>\n",
       "      <td>3758</td>\n",
       "    </tr>\n",
       "    <tr>\n",
       "      <th>32</th>\n",
       "      <td>HOSP MUN JOSANIAS CASTANHA BRAGA</td>\n",
       "      <td>1650</td>\n",
       "    </tr>\n",
       "    <tr>\n",
       "      <th>13</th>\n",
       "      <td>HC DA FMUSP HOSPITAL DAS CLINICAS SAO PAULO</td>\n",
       "      <td>1558</td>\n",
       "    </tr>\n",
       "    <tr>\n",
       "      <th>70</th>\n",
       "      <td>HOSPITAL GERAL DE VILA PENTEADO DR JOSE PANGEL...</td>\n",
       "      <td>1466</td>\n",
       "    </tr>\n",
       "    <tr>\n",
       "      <th>89</th>\n",
       "      <td>HOSPITAL MUNICIPAL DE CAMPANHA VILA BRASILÂNDIA</td>\n",
       "      <td>1344</td>\n",
       "    </tr>\n",
       "    <tr>\n",
       "      <th>119</th>\n",
       "      <td>SANTA CASA DE SAO PAULO HOSPITAL CENTRAL SAO P...</td>\n",
       "      <td>1252</td>\n",
       "    </tr>\n",
       "    <tr>\n",
       "      <th>33</th>\n",
       "      <td>HOSP MUN M BOI MIRIM</td>\n",
       "      <td>1127</td>\n",
       "    </tr>\n",
       "    <tr>\n",
       "      <th>38</th>\n",
       "      <td>HOSP MUN TIDE SETUBAL</td>\n",
       "      <td>1092</td>\n",
       "    </tr>\n",
       "    <tr>\n",
       "      <th>43</th>\n",
       "      <td>HOSP STA MARCELINA SAO PAULO</td>\n",
       "      <td>930</td>\n",
       "    </tr>\n",
       "  </tbody>\n",
       "</table>\n",
       "</div>"
      ],
      "text/plain": [
       "                                           no_fantasia  totalObitos\n",
       "65            HOSPITAL ESTADUAL DE SAPOPEMBA SAO PAULO        16546\n",
       "81                         HOSPITAL LOCAL DE SAPOPEMBA         3758\n",
       "32                    HOSP MUN JOSANIAS CASTANHA BRAGA         1650\n",
       "13         HC DA FMUSP HOSPITAL DAS CLINICAS SAO PAULO         1558\n",
       "70   HOSPITAL GERAL DE VILA PENTEADO DR JOSE PANGEL...         1466\n",
       "89     HOSPITAL MUNICIPAL DE CAMPANHA VILA BRASILÂNDIA         1344\n",
       "119  SANTA CASA DE SAO PAULO HOSPITAL CENTRAL SAO P...         1252\n",
       "33                                HOSP MUN M BOI MIRIM         1127\n",
       "38                               HOSP MUN TIDE SETUBAL         1092\n",
       "43                        HOSP STA MARCELINA SAO PAULO          930"
      ]
     },
     "execution_count": 6,
     "metadata": {},
     "output_type": "execute_result"
    }
   ],
   "source": [
    "df_group.sort_values(by=[\"totalObitos\"], inplace=True, ascending=False)\n",
    "df_ordered = df_group.head(10)\n",
    "df_ordered"
   ]
  },
  {
   "cell_type": "code",
   "execution_count": 7,
   "id": "5dfd1872-dc54-4a85-bfaa-7fe9b787878d",
   "metadata": {},
   "outputs": [
    {
     "data": {
      "text/plain": [
       "43                          HOSP STA MARCELINA SAO PAULO\n",
       "38                                 HOSP MUN TIDE SETUBAL\n",
       "33                                  HOSP MUN M BOI MIRIM\n",
       "119    SANTA CASA DE SAO PAULO HOSPITAL CENTRAL SAO P...\n",
       "89       HOSPITAL MUNICIPAL DE CAMPANHA VILA BRASILÂNDIA\n",
       "70     HOSPITAL GERAL DE VILA PENTEADO DR JOSE PANGEL...\n",
       "13           HC DA FMUSP HOSPITAL DAS CLINICAS SAO PAULO\n",
       "32                      HOSP MUN JOSANIAS CASTANHA BRAGA\n",
       "81                           HOSPITAL LOCAL DE SAPOPEMBA\n",
       "65              HOSPITAL ESTADUAL DE SAPOPEMBA SAO PAULO\n",
       "Name: no_fantasia, dtype: object"
      ]
     },
     "execution_count": 7,
     "metadata": {},
     "output_type": "execute_result"
    }
   ],
   "source": [
    "hospitais = df_ordered[::-1][\"no_fantasia\"]\n",
    "hospitais"
   ]
  },
  {
   "cell_type": "code",
   "execution_count": 8,
   "id": "bec0842f-68db-4215-a6cd-645bd9982d55",
   "metadata": {},
   "outputs": [
    {
     "data": {
      "text/plain": [
       "43       930\n",
       "38      1092\n",
       "33      1127\n",
       "119     1252\n",
       "89      1344\n",
       "70      1466\n",
       "13      1558\n",
       "32      1650\n",
       "81      3758\n",
       "65     16546\n",
       "Name: totalObitos, dtype: int64"
      ]
     },
     "execution_count": 8,
     "metadata": {},
     "output_type": "execute_result"
    }
   ],
   "source": [
    "nObitos = df_ordered[::-1][\"totalObitos\"]\n",
    "nObitos"
   ]
  },
  {
   "cell_type": "code",
   "execution_count": 9,
   "id": "d2530c11-7097-4538-88d4-8df0386be82b",
   "metadata": {},
   "outputs": [
    {
     "data": {
      "image/png": "[encoded data removed]",
      "text/plain": [
       "<Figure size 432x288 with 1 Axes>"
      ]
     },
     "metadata": {
      "needs_background": "light"
     },
     "output_type": "display_data"
    }
   ],
   "source": [
    "plt.barh(hospitais, nObitos, color = 'blue')\n",
    "plt.ylabel(\"Hospitais\")\n",
    "plt.xlabel(\"No. Obitos\")\n",
    "plt.title(\"10 Hospitais com maior No. de Obitos em São Paulo\")\n",
    "plt.show()"
   ]
  },
  {
   "cell_type": "code",
   "execution_count": null,
   "id": "a0a1e335-3770-48de-af6c-3fe44824fd20",
   "metadata": {},
   "outputs": [],
   "source": []
  }
 ],
 "metadata": {
  "kernelspec": {
   "display_name": "Python 3 (ipykernel)",
   "language": "python",
   "name": "python3"
  },
  "language_info": {
   "codemirror_mode": {
    "name": "ipython",
    "version": 3
   },
   "file_extension": ".py",
   "mimetype": "text/x-python",
   "name": "python",
   "nbconvert_exporter": "python",
   "pygments_lexer": "ipython3",
   "version": "3.9.6"
  }
 },
 "nbformat": 4,
 "nbformat_minor": 5
}
